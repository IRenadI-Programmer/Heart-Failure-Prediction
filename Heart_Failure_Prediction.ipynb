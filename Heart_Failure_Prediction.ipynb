{
 "cells": [
  {
   "cell_type": "code",
   "execution_count": 1,
   "id": "27ee60c6-8587-4886-a67f-7a79887398c0",
   "metadata": {},
   "outputs": [
    {
     "name": "stdout",
     "output_type": "stream",
     "text": [
      "Datset Information:\n",
      "<class 'pandas.core.frame.DataFrame'>\n",
      "RangeIndex: 918 entries, 0 to 917\n",
      "Data columns (total 12 columns):\n",
      " #   Column          Non-Null Count  Dtype  \n",
      "---  ------          --------------  -----  \n",
      " 0   Age             918 non-null    int64  \n",
      " 1   Sex             918 non-null    object \n",
      " 2   ChestPainType   918 non-null    object \n",
      " 3   RestingBP       918 non-null    int64  \n",
      " 4   Cholesterol     918 non-null    int64  \n",
      " 5   FastingBS       918 non-null    int64  \n",
      " 6   RestingECG      918 non-null    object \n",
      " 7   MaxHR           918 non-null    int64  \n",
      " 8   ExerciseAngina  918 non-null    object \n",
      " 9   Oldpeak         918 non-null    float64\n",
      " 10  ST_Slope        918 non-null    object \n",
      " 11  HeartDisease    918 non-null    int64  \n",
      "dtypes: float64(1), int64(6), object(5)\n",
      "memory usage: 86.2+ KB\n",
      "None\n"
     ]
    }
   ],
   "source": [
    "import pandas as pd \n",
    "df = pd.read_csv('heart.csv')\n",
    "print (\"Datset Information:\")\n",
    "print(df.info())"
   ]
  },
  {
   "cell_type": "code",
   "execution_count": 22,
   "id": "a6599a63-bfcd-41b9-8365-35434218f5b2",
   "metadata": {},
   "outputs": [
    {
     "name": "stdout",
     "output_type": "stream",
     "text": [
      "\u001b[1mGeneral information:\n",
      "\n",
      "\u001b[1mNumber of attributes:\u001b[0m 12\n",
      "\n",
      "\u001b[1mNumber of objects:\u001b[0m 918\n",
      "\n",
      "\u001b[1mClass lable: \u001b[0mHeartDisease\n",
      "\n",
      "\u001b[1mAttribute types:\u001b[0m\n",
      "               Data Types\n",
      "Age                 int64\n",
      "Sex                object\n",
      "ChestPainType      object\n",
      "RestingBP           int64\n",
      "Cholesterol         int64\n",
      "FastingBS           int64\n",
      "RestingECG         object\n",
      "MaxHR               int64\n",
      "ExerciseAngina     object\n",
      "Oldpeak           float64\n",
      "ST_Slope           object\n",
      "HeartDisease        int64\n"
     ]
    }
   ],
   "source": [
    "data = pd.read_csv('heart.csv')\n",
    "num_attributes = data.shape[1]  \n",
    "num_objects = data.shape[0] \n",
    "attribute_types = data.dtypes.to_frame(name='Data Types')\n",
    "class_name = data.columns[-1]  \n",
    "class_label = data.columns[-1]\n",
    "\n",
    "print(f\"\\033[1mGeneral information:\\n\")\n",
    "print(f\"\\033[1mNumber of attributes:\\033[0m {num_attributes}\\n\")\n",
    "print(f\"\\033[1mNumber of objects:\\033[0m {num_objects}\\n\")\n",
    "print(f\"\\033[1mClass lable: \\033[0m{class_label}\\n\")\n",
    "print(f\"\\033[1mAttribute types:\\033[0m\")\n",
    "print(attribute_types)\n"
   ]
  },
  {
   "cell_type": "code",
   "execution_count": null,
   "id": "28440d87-8f1a-42e0-8964-5038d9da7a0f",
   "metadata": {},
   "outputs": [],
   "source": []
  }
 ],
 "metadata": {
  "kernelspec": {
   "display_name": "Python [conda env:base] *",
   "language": "python",
   "name": "conda-base-py"
  },
  "language_info": {
   "codemirror_mode": {
    "name": "ipython",
    "version": 3
   },
   "file_extension": ".py",
   "mimetype": "text/x-python",
   "name": "python",
   "nbconvert_exporter": "python",
   "pygments_lexer": "ipython3",
   "version": "3.12.7"
  }
 },
 "nbformat": 4,
 "nbformat_minor": 5
}
